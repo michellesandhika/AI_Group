{
 "cells": [
  {
   "cell_type": "code",
   "execution_count": 1,
   "metadata": {},
   "outputs": [
    {
     "name": "stdout",
     "output_type": "stream",
     "text": [
      "Using PyTorch Version 1.7.0+cpu\n"
     ]
    }
   ],
   "source": [
    "import numpy as np\n",
    "from sklearn.datasets import make_moons\n",
    "from sklearn.model_selection import train_test_split\n",
    "import matplotlib.pyplot as plt\n",
    "import torch\n",
    "import torch.nn as nn\n",
    "%matplotlib inline\n",
    "print(\"Using PyTorch Version %s\" %torch.__version__)"
   ]
  },
  {
   "cell_type": "markdown",
   "metadata": {},
   "source": [
    "## Pytorch Basics "
   ]
  },
  {
   "cell_type": "markdown",
   "metadata": {},
   "source": [
    "### Matrices"
   ]
  },
  {
   "cell_type": "markdown",
   "metadata": {},
   "source": [
    "\n",
    "In pytorch, matrix(array) is called tensors.\n",
    "<br>Lets look at array example with numpy that we already know.\n",
    "<br>We create numpy array with np.numpy() method\n",
    "<br>Type(): type of the array. In this example it is numpy\n",
    "<br>np.shape(): shape of the array. Row x Column"
   ]
  },
  {
   "cell_type": "code",
   "execution_count": 2,
   "metadata": {},
   "outputs": [
    {
     "name": "stdout",
     "output_type": "stream",
     "text": [
      "Array Type: <class 'numpy.ndarray'>\n",
      "Array Shape: (2, 3)\n",
      "[[1 2 3]\n",
      " [4 5 6]]\n"
     ]
    }
   ],
   "source": [
    "\n",
    "import numpy as np\n",
    "\n",
    "# numpy array\n",
    "array = [[1,2,3],[4,5,6]]\n",
    "first_array = np.array(array) # 2x3 array\n",
    "print(\"Array Type: {}\".format(type(first_array))) # type\n",
    "print(\"Array Shape: {}\".format(np.shape(first_array))) # shape\n",
    "print(first_array)"
   ]
  },
  {
   "cell_type": "markdown",
   "metadata": {},
   "source": [
    "Now examine how we implement tensor(pytorch array)\n",
    "<br>import pytorch library with import torch\n",
    "<br>We create tensor with torch.Tensor() method\n",
    "<br>type: type of the array. In this example it is tensor\n",
    "<br>shape: shape of the array. Row x Column"
   ]
  },
  {
   "cell_type": "code",
   "execution_count": 3,
   "metadata": {},
   "outputs": [
    {
     "name": "stdout",
     "output_type": "stream",
     "text": [
      "Array Type: <built-in method type of Tensor object at 0x0000025BE800FFC0>\n",
      "Array Shape: torch.Size([2, 3])\n",
      "tensor([[1., 2., 3.],\n",
      "        [4., 5., 6.]])\n"
     ]
    }
   ],
   "source": [
    "# import pytorch library\n",
    "import torch\n",
    "\n",
    "# pytorch array\n",
    "tensor = torch.Tensor(array)\n",
    "print(\"Array Type: {}\".format(tensor.type)) # type\n",
    "print(\"Array Shape: {}\".format(tensor.shape)) # shape\n",
    "print(tensor)"
   ]
  },
  {
   "cell_type": "markdown",
   "metadata": {},
   "source": [
    "Allocation is one of the most used technique in coding. Therefore lets learn how to make it with pytorch.\n",
    "<br>In order to learn, compare numpy and tensor\n",
    "<br>np.ones() = torch.ones()\n",
    "<br>np.random.rand() = torch.rand()"
   ]
  },
  {
   "cell_type": "code",
   "execution_count": 4,
   "metadata": {},
   "outputs": [
    {
     "name": "stdout",
     "output_type": "stream",
     "text": [
      "Numpy [[1. 1. 1.]\n",
      " [1. 1. 1.]]\n",
      "\n",
      "tensor([[1., 1., 1.],\n",
      "        [1., 1., 1.]])\n"
     ]
    }
   ],
   "source": [
    "# numpy ones\n",
    "print(\"Numpy {}\\n\".format(np.ones((2,3))))\n",
    "\n",
    "# pytorch ones\n",
    "print(torch.ones((2,3)))"
   ]
  },
  {
   "cell_type": "code",
   "execution_count": 5,
   "metadata": {},
   "outputs": [
    {
     "name": "stdout",
     "output_type": "stream",
     "text": [
      "Numpy [[0.50652026 0.02751454 0.05503772]\n",
      " [0.64553102 0.3499809  0.46632997]]\n",
      "\n",
      "tensor([[0.1259, 0.3684, 0.2791],\n",
      "        [0.9492, 0.8609, 0.4123]])\n"
     ]
    }
   ],
   "source": [
    "# numpy random\n",
    "print(\"Numpy {}\\n\".format(np.random.rand(2,3)))\n",
    "\n",
    "# pytorch random\n",
    "print(torch.rand(2,3))"
   ]
  },
  {
   "cell_type": "markdown",
   "metadata": {},
   "source": [
    "Lets look at conversion between tensor and numpy arrays.\n",
    "<br>torch.from_numpy(): from numpy to tensor\n",
    "<br>numpy(): from tensor to numpy"
   ]
  },
  {
   "cell_type": "code",
   "execution_count": 6,
   "metadata": {},
   "outputs": [
    {
     "name": "stdout",
     "output_type": "stream",
     "text": [
      "<class 'numpy.ndarray'> [[0.44995228 0.61279002]\n",
      " [0.70561575 0.02751359]]\n",
      "\n",
      "tensor([[0.4500, 0.6128],\n",
      "        [0.7056, 0.0275]], dtype=torch.float64)\n",
      "\n",
      "<class 'numpy.ndarray'> [[0.44995228 0.61279002]\n",
      " [0.70561575 0.02751359]]\n",
      "\n"
     ]
    }
   ],
   "source": [
    "array = np.random.rand(2,2)\n",
    "print(\"{} {}\\n\".format(type(array),array))\n",
    "\n",
    "# from numpy to tensor\n",
    "from_numpy_to_tensor = torch.from_numpy(array)\n",
    "print(\"{}\\n\".format(from_numpy_to_tensor))\n",
    "\n",
    "# from tensor to numpy\n",
    "tensor = from_numpy_to_tensor\n",
    "from_tensor_to_numpy = tensor.numpy()\n",
    "print(\"{} {}\\n\".format(type(from_tensor_to_numpy),from_tensor_to_numpy))"
   ]
  },
  {
   "cell_type": "markdown",
   "metadata": {},
   "source": [
    "### Basic Math with Pytorch\n"
   ]
  },
  {
   "cell_type": "markdown",
   "metadata": {},
   "source": [
    "Resize: view()\n",
    "<br>a and b are tensor.\n",
    "<br>Addition: torch.add(a,b) = a + b\n",
    "<br>Subtraction: a.sub(b) = a - b\n",
    "<br>Element wise multiplication: torch.mul(a,b) = a * b\n",
    "<br>Element wise division: torch.div(a,b) = a / b\n",
    "<br>Mean: a.mean()\n",
    "<br>Standart Deviation (std): a.std()"
   ]
  },
  {
   "cell_type": "code",
   "execution_count": 7,
   "metadata": {},
   "outputs": [
    {
     "name": "stdout",
     "output_type": "stream",
     "text": [
      "\n",
      " tensor([[1., 1., 1.],\n",
      "        [1., 1., 1.],\n",
      "        [1., 1., 1.]])\n",
      "torch.Size([9])tensor([1., 1., 1., 1., 1., 1., 1., 1., 1.])\n",
      "\n",
      "Addition: tensor([[2., 2., 2.],\n",
      "        [2., 2., 2.],\n",
      "        [2., 2., 2.]])\n",
      "\n",
      "Subtraction: tensor([[0., 0., 0.],\n",
      "        [0., 0., 0.],\n",
      "        [0., 0., 0.]])\n",
      "\n",
      "Element wise multiplication: tensor([[1., 1., 1.],\n",
      "        [1., 1., 1.],\n",
      "        [1., 1., 1.]])\n",
      "\n",
      "Element wise division: tensor([[1., 1., 1.],\n",
      "        [1., 1., 1.],\n",
      "        [1., 1., 1.]])\n",
      "\n",
      "Mean: 3.0\n",
      "std: 1.5811388492584229\n"
     ]
    }
   ],
   "source": [
    "# create tensor \n",
    "tensor = torch.ones(3,3)\n",
    "print(\"\\n\",tensor)\n",
    "\n",
    "# Resize\n",
    "print(\"{}{}\\n\".format(tensor.view(9).shape,tensor.view(9)))\n",
    "\n",
    "# Addition\n",
    "print(\"Addition: {}\\n\".format(torch.add(tensor,tensor)))\n",
    "\n",
    "# Subtraction\n",
    "print(\"Subtraction: {}\\n\".format(tensor.sub(tensor)))\n",
    "\n",
    "# Element wise multiplication\n",
    "print(\"Element wise multiplication: {}\\n\".format(torch.mul(tensor,tensor)))\n",
    "\n",
    "# Element wise division\n",
    "print(\"Element wise division: {}\\n\".format(torch.div(tensor,tensor)))\n",
    "\n",
    "# Mean\n",
    "tensor = torch.Tensor([1,2,3,4,5])\n",
    "print(\"Mean: {}\".format(tensor.mean()))\n",
    "\n",
    "# Standart deviation (std)\n",
    "print(\"std: {}\".format(tensor.std()))"
   ]
  },
  {
   "cell_type": "markdown",
   "metadata": {},
   "source": [
    "### Variables\n"
   ]
  },
  {
   "cell_type": "markdown",
   "metadata": {},
   "source": [
    "<br>It accumulates gradients.\n",
    "<br>Difference between variables and tensor is variable accumulates gradients.\n",
    "<br>We can make math operations with variables, too.\n",
    "<br>In order to make backward propagation we need variables"
   ]
  },
  {
   "cell_type": "code",
   "execution_count": 8,
   "metadata": {},
   "outputs": [
    {
     "data": {
      "text/plain": [
       "tensor([1., 1., 1.], requires_grad=True)"
      ]
     },
     "execution_count": 8,
     "metadata": {},
     "output_type": "execute_result"
    }
   ],
   "source": [
    "# import variable from pytorch library\n",
    "from torch.autograd import Variable\n",
    "\n",
    "# define variable\n",
    "var = Variable(torch.ones(3), requires_grad = True)\n",
    "var"
   ]
  },
  {
   "cell_type": "code",
   "execution_count": 9,
   "metadata": {},
   "outputs": [
    {
     "name": "stdout",
     "output_type": "stream",
     "text": [
      " y =   tensor([ 4., 16.], grad_fn=<PowBackward0>)\n",
      " o =   tensor(10., grad_fn=<MulBackward0>)\n",
      "gradients:  tensor([2., 4.])\n"
     ]
    }
   ],
   "source": [
    "# lets make basic backward propagation\n",
    "# we have an equation that is y = x^2\n",
    "array = [2,4]\n",
    "tensor = torch.Tensor(array)\n",
    "x = Variable(tensor, requires_grad = True)\n",
    "y = x**2\n",
    "print(\" y =  \",y)\n",
    "\n",
    "# recap o equation o = 1/2*sum(y)\n",
    "o = (1/2)*sum(y)\n",
    "print(\" o =  \",o)\n",
    "\n",
    "# backward\n",
    "o.backward() # calculates gradients\n",
    "\n",
    "# As I defined, variables accumulates gradients. In this part there is only one variable x.\n",
    "# Therefore variable x should be have gradients\n",
    "# Lets look at gradients with x.grad\n",
    "print(\"gradients: \",x.grad)"
   ]
  },
  {
   "cell_type": "code",
   "execution_count": null,
   "metadata": {},
   "outputs": [],
   "source": []
  },
  {
   "cell_type": "code",
   "execution_count": null,
   "metadata": {},
   "outputs": [],
   "source": []
  },
  {
   "cell_type": "code",
   "execution_count": null,
   "metadata": {},
   "outputs": [],
   "source": []
  },
  {
   "cell_type": "markdown",
   "metadata": {},
   "source": [
    "## ANN "
   ]
  },
  {
   "cell_type": "markdown",
   "metadata": {},
   "source": [
    "Let’s first generate our data. \n"
   ]
  },
  {
   "cell_type": "code",
   "execution_count": 10,
   "metadata": {},
   "outputs": [],
   "source": [
    "np.random.seed(0)\n",
    "torch.manual_seed(0)\n",
    "X, Y = make_moons(500, noise=0.2)\n"
   ]
  },
  {
   "cell_type": "markdown",
   "metadata": {},
   "source": [
    "Split into test and training data\n"
   ]
  },
  {
   "cell_type": "code",
   "execution_count": 11,
   "metadata": {},
   "outputs": [],
   "source": [
    "\n",
    "# Split into test and training data\n",
    "X_train, X_test, Y_train, Y_test = train_test_split(X, Y,\n",
    "    test_size=0.25, random_state=73)"
   ]
  },
  {
   "cell_type": "markdown",
   "metadata": {},
   "source": [
    "This is a pretty straightforward data set that has two crescent moon-shaped groups that we try to classify. It’s good for a problem like this because in this 2D space, the classification boundary is non-linear meaning that linear discriminators can’t classify this properly. However, neural networks are non-linear function approximators so they in fact can deal with this, as we’ll soon see. \n"
   ]
  },
  {
   "cell_type": "code",
   "execution_count": 12,
   "metadata": {},
   "outputs": [
    {
     "data": {
      "image/png": "[encoded data removed]",
      "text/plain": [
       "<Figure size 864x576 with 1 Axes>"
      ]
     },
     "metadata": {
      "needs_background": "light"
     },
     "output_type": "display_data"
    }
   ],
   "source": [
    "#plot the data\n",
    "plt.figure(figsize=(12,8))\n",
    "plt.scatter(X_train[:,0], X_train[:,1], c=Y_train)\n",
    "plt.title('Moon Data')\n",
    "plt.show()"
   ]
  },
  {
   "cell_type": "markdown",
   "metadata": {},
   "source": [
    "# Build our Neural Network\n"
   ]
  },
  {
   "cell_type": "markdown",
   "metadata": {},
   "source": [
    "PyTorch networks are really quick and easy to build, just set up the inputs and outputs as needed, then stack your linear layers together with a non-linear activation function in between. At the end of it, you’ll be able to simply print your network for visual inspection.\n",
    "We don’t need a very large network for this classification task, so we’ll keep it small and clean."
   ]
  },
  {
   "cell_type": "code",
   "execution_count": 18,
   "metadata": {},
   "outputs": [
    {
     "name": "stdout",
     "output_type": "stream",
     "text": [
      "Sequential(\n",
      "  (0): Linear(in_features=2, out_features=4, bias=True)\n",
      "  (1): ELU(alpha=1.0)\n",
      "  (2): Linear(in_features=4, out_features=1, bias=True)\n",
      "  (3): Sigmoid()\n",
      ")\n"
     ]
    }
   ],
   "source": [
    "# Define network dimensions\n",
    "n_input_dim = X_train.shape[1]\n",
    "# Layer size\n",
    "n_hidden = 4 # Number of hidden nodes\n",
    "n_output = 1 # Number of output nodes = for binary classifier\n",
    "\n",
    "# Build your network\n",
    "net = nn.Sequential(\n",
    "    nn.Linear(n_input_dim, n_hidden),\n",
    "    nn.ELU(),\n",
    "    nn.Linear(n_hidden, n_output),\n",
    "    nn.Sigmoid())\n",
    "    \n",
    "print(net)"
   ]
  },
  {
   "cell_type": "markdown",
   "metadata": {},
   "source": [
    "There we have it! Just a few lines of code and we have a neural network for binary classification. We still have a few steps to set up before we get around to training it, but I want to point out that the network itself takes inputs to produce a given output, there are no special methods that need to be called or any other steps in order to complete a forward pass. For example: "
   ]
  },
  {
   "cell_type": "code",
   "execution_count": 19,
   "metadata": {},
   "outputs": [
    {
     "data": {
      "text/plain": [
       "tensor([0.4413], grad_fn=<SigmoidBackward>)"
      ]
     },
     "execution_count": 19,
     "metadata": {},
     "output_type": "execute_result"
    }
   ],
   "source": [
    "x = torch.FloatTensor([1, 1])\n",
    "net(x)"
   ]
  },
  {
   "cell_type": "markdown",
   "metadata": {},
   "source": [
    "Here, we just define a FloatTensor in PyTorch, and pass the values to get a prediction"
   ]
  },
  {
   "cell_type": "markdown",
   "metadata": {},
   "source": [
    "Now let’s go back to getting our network ready to train by defining the loss function and optimizer. \n"
   ]
  },
  {
   "cell_type": "code",
   "execution_count": 20,
   "metadata": {},
   "outputs": [],
   "source": [
    "loss_func = nn.BCELoss()\n",
    "learning_rate = 0.01\n",
    "optimizer = torch.optim.Adam(net.parameters(), lr=learning_rate)"
   ]
  },
  {
   "cell_type": "markdown",
   "metadata": {},
   "source": [
    "For this, all that is needed is the binary cross entropy loss (BCELoss) function, and to set our optimizer and its learning rate. Thanks to the wonders of auto differentiation, we can let PyTorch handle all of the derivatives and messy details of backpropagation making our training seamless and straightforward. "
   ]
  },
  {
   "cell_type": "markdown",
   "metadata": {},
   "source": [
    "# Training a PyTorch Classifier\n"
   ]
  },
  {
   "cell_type": "markdown",
   "metadata": {},
   "source": [
    "To train our network, we just need to loop over our data set a few hundred times until we reach convergence. Typically, you’d break training up into mini-batches, but this data set is small enough that we can simply pass the whole thing through, make our predictions, calculate the loss, and update the network all in one pass.\n",
    "As shown above, PyTorch doesn’t take Numpy arrays directly, so we’ll need to pass those values through the torch.FloatTensor function first to convert it to the proper format, which I’ve denoted with an underscore t (_t) for clarity. \n",
    "\n",
    "Once we’ve made our predictions and calculated our loss, we need to call the .backward() method on the loss tensor itself. This tells PyTorch to calculate all of the gradients for our network. After that, we tell the optimizer to .step() forward, which applies those gradients to all of the weights and biases in the network, causing it to learn the data better. After that, we can zero out all of the gradients, essentially throwing them away so that we can apply the new gradients after the next iteration.\n",
    "\n",
    "To log our data, you’ll notice we call the .detach() method on our predictions, y_hat. We do this to tell PyTorch to remove the graph structure from this value meaning that we no longer want to calculate derivatives with these values. It’s very important to keep track of what are variables with gradients and which ones aren’t, particularly if you have multiple networks working together. Here, we also convert the tensor to a NumPy array for additional flexibility. For this problem, this last step isn’t strictly necessary, but I included it for illustration"
   ]
  },
  {
   "cell_type": "code",
   "execution_count": 21,
   "metadata": {},
   "outputs": [
    {
     "data": {
      "image/png": "[encoded data removed]",
      "text/plain": [
       "<Figure size 864x576 with 2 Axes>"
      ]
     },
     "metadata": {
      "needs_background": "light"
     },
     "output_type": "display_data"
    }
   ],
   "source": [
    "train_loss = []\n",
    "train_accuracy = []\n",
    "iters = 1000\n",
    "Y_train_t = torch.FloatTensor(Y_train).reshape(-1, 1)\n",
    "for i in range(iters):\n",
    "    X_train_t = torch.FloatTensor(X_train)\n",
    "    y_hat = net(X_train_t)\n",
    "    loss = loss_func(y_hat, Y_train_t)\n",
    "    loss.backward()\n",
    "    optimizer.step()\n",
    "    optimizer.zero_grad()\n",
    "    y_hat_class = np.where(y_hat.detach().numpy()<0.5, 0, 1)\n",
    "    accuracy = np.sum(Y_train.reshape(-1,1)==y_hat_class) / len(Y_train)\n",
    "    train_accuracy.append(accuracy)\n",
    "    train_loss.append(loss.item())\n",
    "    \n",
    "fig, ax = plt.subplots(2, 1, figsize=(12,8))\n",
    "ax[0].plot(train_loss)\n",
    "ax[0].set_ylabel('Loss')\n",
    "ax[0].set_title('Training Loss')\n",
    "\n",
    "ax[1].plot(train_accuracy)\n",
    "ax[1].set_ylabel('Classification Accuracy')\n",
    "ax[1].set_title('Training Accuracy')\n",
    "\n",
    "plt.tight_layout()\n",
    "plt.show()"
   ]
  },
  {
   "cell_type": "markdown",
   "metadata": {},
   "source": [
    "It worked! Our network trained over the 1,000 iterations and pushed its classification accuracy towards 90%. Let’s go ahead and visualize this to see how well it fares on our test set. "
   ]
  },
  {
   "cell_type": "code",
   "execution_count": null,
   "metadata": {},
   "outputs": [],
   "source": [
    "# Pass test data\n",
    "X_test_t = torch.FloatTensor(X_test)\n",
    "y_hat_test = net(X_test_t)\n",
    "y_hat_test_class = np.where(y_hat_test.detach().numpy()<0.5, 0, 1)\n",
    "test_accuracy = np.sum(Y_test.reshape(-1,1)==y_hat_test_class) / len(Y_test)\n",
    "print(\"Test Accuracy {:.2f}\".format(test_accuracy))\n",
    "\n",
    "# Plot the decision boundary\n",
    "# Determine grid range in x and y directions\n",
    "x_min, x_max = X[:, 0].min()-0.1, X[:, 0].max()+0.1\n",
    "y_min, y_max = X[:, 1].min()-0.1, X[:, 1].max()+0.1\n",
    "\n",
    "# Set grid spacing parameter\n",
    "spacing = min(x_max - x_min, y_max - y_min) / 100\n",
    "\n",
    "# Create grid\n",
    "XX, YY = np.meshgrid(np.arange(x_min, x_max, spacing),\n",
    "               np.arange(y_min, y_max, spacing))\n",
    "\n",
    "# Concatenate data to match input\n",
    "data = np.hstack((XX.ravel().reshape(-1,1), \n",
    "                  YY.ravel().reshape(-1,1)))\n",
    "\n",
    "# Pass data to predict method\n",
    "data_t = torch.FloatTensor(data)\n",
    "db_prob = net(data_t)\n",
    "\n",
    "clf = np.where(db_prob<0.5,0,1)\n",
    "\n",
    "Z = clf.reshape(XX.shape)\n",
    "\n",
    "plt.figure(figsize=(12,8))\n",
    "plt.contourf(XX, YY, Z, cmap=plt.cm.Accent, alpha=0.5)\n",
    "plt.scatter(X_test[:,0], X_test[:,1], c=Y_test, \n",
    "            cmap=plt.cm.Accent)\n",
    "plt.show()"
   ]
  },
  {
   "cell_type": "markdown",
   "metadata": {},
   "source": [
    "87% accuracy isn’t too shabby for such a small network, but we can do better by tuning the hyperparameters a bit. In this case, we’ll tweak the number of hidden nodes to see if we get better results. "
   ]
  },
  {
   "cell_type": "markdown",
   "metadata": {},
   "source": [
    "# Improving our Accuracy\n"
   ]
  },
  {
   "cell_type": "markdown",
   "metadata": {},
   "source": [
    "Let’s run this in a loop and see how adjusting the hidden nodes changes our results. "
   ]
  },
  {
   "cell_type": "markdown",
   "metadata": {},
   "source": [
    "We’ll implement an object oriented approach to building and training these networks which will make it much, much easier for us to adjust when we need to. "
   ]
  },
  {
   "cell_type": "code",
   "execution_count": null,
   "metadata": {},
   "outputs": [],
   "source": [
    "class network():\n",
    "    \n",
    "    def __init__(self, X, Y, n_hidden=4, learning_rate=1e-2):\n",
    "        #global variables\n",
    "        self.X = X\n",
    "        self.Y = Y.reshape(-1,1)\n",
    "        self.Y_t = torch.FloatTensor(self.Y)\n",
    "        self.n_input_dim = X.shape[1]\n",
    "        self.n_output = 1\n",
    "        self.learning_rate = learning_rate\n",
    "        self.n_hidden = n_hidden\n",
    "        \n",
    "        # Build network\n",
    "        self.net = nn.Sequential(\n",
    "            nn.Linear(self.n_input_dim, self.n_hidden), \n",
    "            nn.ELU(),\n",
    "            nn.Linear(self.n_hidden, self.n_output),\n",
    "            nn.Sigmoid())       \n",
    "        self.loss_func = nn.BCELoss()\n",
    "        self.optimizer = torch.optim.Adam(self.net.parameters(), \n",
    "                                          lr=self.learning_rate)\n",
    "        \n",
    "    def predict(self, X):\n",
    "        # Function to generate predictions based on data\n",
    "        X_t = torch.FloatTensor(X)\n",
    "        return self.net(X_t)\n",
    "    \n",
    "    def calculate_loss(self, y_hat):\n",
    "        #Function to calculate loss\n",
    "        return self.loss_func(y_hat, self.Y_t)\n",
    "    \n",
    "    def update_network(self, y_hat):\n",
    "        #Function to update the network\n",
    "        self.optimizer.zero_grad()\n",
    "        loss = self.calculate_loss(y_hat)\n",
    "        loss.backward()\n",
    "        self.optimizer.step()\n",
    "        self.training_loss.append(loss.item())\n",
    "        \n",
    "    def calculate_accuracy(self, y_hat_class, Y):\n",
    "        #Function to calculate the accuracy\n",
    "        return np.sum(Y.reshape(-1,1)==y_hat_class) / len(Y)\n",
    "        \n",
    "    def train(self, n_iters=1000):\n",
    "        #Function to train the network\n",
    "        self.training_loss = []\n",
    "        self.training_accuracy = []\n",
    "        \n",
    "        for i in range(n_iters):\n",
    "            y_hat = self.predict(X)\n",
    "            self.update_network(y_hat)\n",
    "            y_hat_class = np.where(y_hat<0.5, 0, 1)\n",
    "            accuracy = self.calculate_accuracy(y_hat_class, self.Y)\n",
    "            self.training_accuracy.append(accuracy)\n",
    "        \n",
    "    def plot_testing_results(self, X_test, Y_test):\n",
    "        # Pass test data\n",
    "        y_hat_test = self.predict(X_test)\n",
    "        y_hat_test_class = np.where(y_hat_test<0.5, 0, 1)\n",
    "        print(\"Test Accuracy {:.2f}%\".format(\n",
    "            self.calculate_accuracy(y_hat_test_class, Y_test) * 100))\n",
    "        # Plot the decision boundary\n",
    "        # Determine grid range in x and y directions\n",
    "        x_min, x_max = X[:, 0].min()-0.1, X[:, 0].max()+0.1\n",
    "        y_min, y_max = X[:, 1].min()-0.1, X[:, 1].max()+0.1\n",
    "\n",
    "        # Set grid spacing parameter\n",
    "        spacing = min(x_max - x_min, y_max - y_min) / 100\n",
    "\n",
    "        # Create grid\n",
    "        XX, YY = np.meshgrid(np.arange(x_min, x_max, spacing),\n",
    "                       np.arange(y_min, y_max, spacing))\n",
    "\n",
    "        # Concatenate data to match input\n",
    "        data = np.hstack((XX.ravel().reshape(-1,1), \n",
    "                          YY.ravel().reshape(-1,1)))\n",
    "\n",
    "        # Pass data to predict method\n",
    "        db_prob = self.predict(data)\n",
    "\n",
    "        clf = np.where(db_prob<0.5,0,1)\n",
    "\n",
    "        Z = clf.reshape(XX.shape)\n",
    "\n",
    "        plt.figure(figsize=(12,8))\n",
    "        plt.contourf(XX, YY, Z, cmap=plt.cm.Accent, alpha=0.5)\n",
    "        plt.scatter(X_test[:,0], X_test[:,1], c=Y_test, \n",
    "                    cmap=plt.cm.Accent)\n",
    "        plt.show()"
   ]
  },
  {
   "cell_type": "code",
   "execution_count": null,
   "metadata": {
    "scrolled": false
   },
   "outputs": [],
   "source": [
    "n_hidden_nodes = [1, 5, 10, 25, 50]\n",
    "\n",
    "for n in n_hidden_nodes:\n",
    "    print(\"Number of hidden nodes: {:d}\".format(n))\n",
    "    net = network(X, Y, n_hidden=n)\n",
    "    net.train()\n",
    "    net.plot_testing_results(X_test, Y_test)"
   ]
  },
  {
   "cell_type": "markdown",
   "metadata": {},
   "source": [
    "The network shows that it is able to learn a reasonable decision boundary between the data sets. We get better and better results as we increase the number of hidden nodes in our network, although we do run the risk of over fitting. It would be instructive to see how the depth of the network can change the results we see here for the better and also to try to apply these same techniques to some more interesting classification problems. There are a wealth of interesting problems that can be attacked with these machine learning techniques and I encourage you to grab some data and see what you can come up with!\n"
   ]
  },
  {
   "cell_type": "code",
   "execution_count": null,
   "metadata": {},
   "outputs": [],
   "source": []
  }
 ],
 "metadata": {
  "kernelspec": {
   "display_name": "Python 3",
   "language": "python",
   "name": "python3"
  },
  "language_info": {
   "codemirror_mode": {
    "name": "ipython",
    "version": 3
   },
   "file_extension": ".py",
   "mimetype": "text/x-python",
   "name": "python",
   "nbconvert_exporter": "python",
   "pygments_lexer": "ipython3",
   "version": "3.8.6"
  }
 },
 "nbformat": 4,
 "nbformat_minor": 2
}
